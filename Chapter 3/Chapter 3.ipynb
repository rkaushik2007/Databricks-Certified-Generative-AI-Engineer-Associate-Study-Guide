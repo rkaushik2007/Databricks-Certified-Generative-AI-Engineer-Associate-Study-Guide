{
 "cells": [
  {
   "cell_type": "markdown",
   "metadata": {
    "application/vnd.databricks.v1+cell": {
     "cellMetadata": {},
     "inputWidgets": {},
     "nuid": "aa74af9c-a1a7-429b-b1c7-ae4983580477",
     "showTitle": false,
     "tableResultSettingsMap": {},
     "title": ""
    }
   },
   "source": [
    "# \uD83E\uDDEA Lab: Chunking and Indexing for Retrieval-Augmented Generation (RAG)\n",
    "\n",
    "## \uD83D\uDD0D Scenario\n",
    "You are a data engineer working for a health research organization. Your team is building a Retrieval-Augmented Generation (RAG) system to help researchers, doctors, and analysts query critical documents like CDC guidelines, WHO protocols, and medical articles using large language models (LLMs).\n",
    "\n",
    "To ensure the system returns highly relevant and accurate results, you must:\n",
    "- Clean and preprocess semi-structured documents,\n",
    "- Apply appropriate chunking strategies,\n",
    "- Generate embeddings,\n",
    "- Store the results in Delta Lake,\n",
    "- And finally, index them for semantic search using Databricks Vector Search.\n",
    "\n",
    "Your goal in this lab is to simulate a real-world pipeline and observe how chunk size and granularity impact the quality of retrieved answers.\n",
    "\n",
    "---\n",
    "\n",
    "## \uD83C\uDFAF Objective\n",
    "\n",
    "By the end of this lab, you will be able to:\n",
    "\n",
    "- Extract and clean text from public PDF medical documents\n",
    "- Apply sentence-based chunking with overlap to create coherent chunks\n",
    "- Convert chunked text into Delta format and generate vector embeddings using a hosted embedding endpoint\n",
    "- Index the embedded chunks using Databricks Vector Search\n",
    "- Perform similarity-based queries using natural language prompts\n",
    "- Simulate how chunk size affects retrieval precision using a post-query evaluation\n",
    "\n",
    "This lab aligns with the learning objective of Chapter 3:\n",
    "\n",
    "> **\"Implement effective data chunking, filtering, and structuring strategies that enhance retrieval quality in RAG pipelines.\"**\n"
   ]
  },
  {
   "cell_type": "markdown",
   "metadata": {
    "application/vnd.databricks.v1+cell": {
     "cellMetadata": {},
     "inputWidgets": {},
     "nuid": "94f064cc-85d2-4cd2-9c3f-837eb6e35c16",
     "showTitle": false,
     "tableResultSettingsMap": {},
     "title": ""
    }
   },
   "source": [
    "## ⚙️ Step 1: Install Required Libraries\n",
    "\n",
    "We’ll begin by installing the following:\n",
    "\n",
    "- **`pymupdf`**: For extracting text from PDF documents\n",
    "- **`databricks-sdk`**: To interact with Databricks REST APIs\n",
    "- **`databricks-vectorsearch`**: To build and query vector search indexes on Delta tables\n",
    "\n",
    "You only need to run this once per cluster.\n",
    "\n",
    "```python\n",
    "# If not already installed\n",
    "%pip install --quiet pymupdf databricks-sdk --upgrade databricks-vectorsearch\n"
   ]
  },
  {
   "cell_type": "code",
   "execution_count": 0,
   "metadata": {
    "application/vnd.databricks.v1+cell": {
     "cellMetadata": {
      "byteLimit": 2048000,
      "rowLimit": 10000
     },
     "inputWidgets": {},
     "nuid": "36343f74-fb65-4f4b-87c9-43d22bcefa18",
     "showTitle": false,
     "tableResultSettingsMap": {},
     "title": ""
    }
   },
   "outputs": [
    {
     "output_type": "stream",
     "name": "stdout",
     "output_type": "stream",
     "text": [
      "\u001B[43mNote: you may need to restart the kernel using %restart_python or dbutils.library.restartPython() to use updated packages.\u001B[0m\n"
     ]
    }
   ],
   "source": [
    "# If not already installed\n",
    "%pip install --quiet  pymupdf databricks-sdk --upgrade databricks-vectorsearch \n",
    "\n"
   ]
  },
  {
   "cell_type": "code",
   "execution_count": 0,
   "metadata": {
    "application/vnd.databricks.v1+cell": {
     "cellMetadata": {},
     "inputWidgets": {},
     "nuid": "92d1b8ed-1fbb-4f47-ab4d-6d276261bfb1",
     "showTitle": false,
     "tableResultSettingsMap": {},
     "title": ""
    }
   },
   "outputs": [],
   "source": [
    "dbutils.library.restartPython()"
   ]
  },
  {
   "cell_type": "markdown",
   "metadata": {
    "application/vnd.databricks.v1+cell": {
     "cellMetadata": {},
     "inputWidgets": {},
     "nuid": "1c3e2a93-beb3-4d76-bf79-501a714459c5",
     "showTitle": false,
     "tableResultSettingsMap": {},
     "title": ""
    }
   },
   "source": [
    "## \uD83D\uDCC4 Step 2: Download Sample Documents to DBFS\n",
    "\n",
    "We will download two public documents to simulate real-world RAG scenarios:\n",
    "\n",
    "- **CDC COVID-19 FAQ**\n",
    "- **WHO Clinical Guidelines**\n",
    "\n",
    "These files will be saved to your Databricks FileStore under `/dbfs/FileStore/rag_docs`.\n"
   ]
  },
  {
   "cell_type": "code",
   "execution_count": 0,
   "metadata": {
    "application/vnd.databricks.v1+cell": {
     "cellMetadata": {
      "byteLimit": 2048000,
      "rowLimit": 10000
     },
     "inputWidgets": {},
     "nuid": "b44c8dcb-c6fb-4ac7-b3ea-74ccc4d4eb9d",
     "showTitle": false,
     "tableResultSettingsMap": {},
     "title": ""
    }
   },
   "outputs": [
    {
     "output_type": "stream",
     "name": "stdout",
     "output_type": "stream",
     "text": [
      "\uD83D\uDCE5 Downloading cdc_faq.pdf...\n✅ File saved to /dbfs/FileStore/rag_docs/cdc_faq.pdf\n\uD83D\uDCE5 Downloading who_guidelines.pdf...\n✅ File saved to /dbfs/FileStore/rag_docs/who_guidelines.pdf\n"
     ]
    },
    {
     "output_type": "execute_result",
     "data": {
      "text/plain": [
       "[FileInfo(path='dbfs:/FileStore/rag_docs/cdc_faq.pdf', name='cdc_faq.pdf', size=20970, modificationTime=1751503623000),\n",
       " FileInfo(path='dbfs:/FileStore/rag_docs/cdc_faq_clean.txt', name='cdc_faq_clean.txt', size=1922, modificationTime=1751499640000),\n",
       " FileInfo(path='dbfs:/FileStore/rag_docs/who_guidelines.pdf', name='who_guidelines.pdf', size=2499497, modificationTime=1751503625000),\n",
       " FileInfo(path='dbfs:/FileStore/rag_docs/who_guidelines_clean.txt', name='who_guidelines_clean.txt', size=307981, modificationTime=1751499641000)]"
      ]
     },
     "execution_count": 1,
     "metadata": {},
     "output_type": "execute_result"
    }
   ],
   "source": [
    "import os\n",
    "import requests\n",
    "\n",
    "# Define DBFS directory\n",
    "dbfs_path = \"/dbfs/FileStore/rag_docs\"\n",
    "os.makedirs(dbfs_path, exist_ok=True)  # Create directory if it doesn't exist\n",
    "\n",
    "# List of documents to download\n",
    "documents = {\n",
    "    \"cdc_faq.pdf\": \"https://www.cdc.gov/coronavirus/2019-ncov/downloads/2019-ncov-factsheet.pdf\",\n",
    "    \"who_guidelines.pdf\": \"https://apps.who.int/iris/bitstream/handle/10665/338882/WHO-2019-nCoV-clinical-2021.1-eng.pdf\"\n",
    "}\n",
    "\n",
    "# Download and save to DBFS\n",
    "for filename, url in documents.items():\n",
    "    print(f\"\uD83D\uDCE5 Downloading {filename}...\")\n",
    "    response = requests.get(url)\n",
    "    full_path = os.path.join(dbfs_path, filename)\n",
    "    with open(full_path, \"wb\") as f:\n",
    "        f.write(response.content)\n",
    "    print(f\"✅ File saved to {full_path}\")\n",
    "\n",
    "\n",
    "dbutils.fs.ls(\"dbfs:/FileStore/rag_docs/\")"
   ]
  },
  {
   "cell_type": "markdown",
   "metadata": {
    "application/vnd.databricks.v1+cell": {
     "cellMetadata": {},
     "inputWidgets": {},
     "nuid": "0bcd96f2-6301-4470-8983-ae66f0516539",
     "showTitle": false,
     "tableResultSettingsMap": {},
     "title": ""
    }
   },
   "source": [
    "## \uD83E\uDDF9 Step 3: Extract and Clean PDF Text\n",
    "\n",
    "We will now use **PyMuPDF (`fitz`)** to extract raw text from the downloaded PDFs and clean it using a simple text-processing function.\n",
    "\n",
    "This step ensures:\n",
    "- Removal of extra whitespace and line breaks\n",
    "- Stripping out headers like \"Page 1\", \"Page 2\", etc.\n",
    "- Clean formatting for downstream chunking and embedding\n",
    "\n",
    "\n"
   ]
  },
  {
   "cell_type": "code",
   "execution_count": 0,
   "metadata": {
    "application/vnd.databricks.v1+cell": {
     "cellMetadata": {
      "byteLimit": 2048000,
      "rowLimit": 10000
     },
     "inputWidgets": {},
     "nuid": "75ef219a-9c43-46db-aa74-c3c78c681b88",
     "showTitle": false,
     "tableResultSettingsMap": {},
     "title": ""
    }
   },
   "outputs": [
    {
     "output_type": "stream",
     "name": "stdout",
     "output_type": "stream",
     "text": [
      "✅ Text extracted and saved as:\n - /dbfs/FileStore/rag_docs/cdc_faq_clean.txt\n - /dbfs/FileStore/rag_docs/who_guidelines_clean.txt\n"
     ]
    }
   ],
   "source": [
    "import os\n",
    "import fitz  # This is PyMuPDF\n",
    "import re\n",
    "\n",
    "# Ensure target directory exists\n",
    "dbfs_dir = \"/dbfs/FileStore/rag_docs\"\n",
    "os.makedirs(dbfs_dir, exist_ok=True)\n",
    "\n",
    "# Utility: Clean extracted text\n",
    "def clean_text(text):\n",
    "    text = re.sub(r\"\\n+\", \"\\n\", text)\n",
    "    text = re.sub(r\"\\s{2,}\", \" \", text)\n",
    "    text = re.sub(r\"Page \\d+\", \"\", text, flags=re.IGNORECASE)\n",
    "    return text.strip()\n",
    "\n",
    "# Utility: Extract text from PDF using PyMuPDF\n",
    "def extract_pdf_text(pdf_path):\n",
    "    doc = fitz.open(pdf_path)\n",
    "    full_text = \"\"\n",
    "    for page in doc:\n",
    "        full_text += page.get_text()\n",
    "    return clean_text(full_text)\n",
    "\n",
    "# Extract and clean both documents\n",
    "cdc_pdf_path = \"/dbfs/FileStore/rag_docs/cdc_faq.pdf\"\n",
    "who_pdf_path = \"/dbfs/FileStore/rag_docs/who_guidelines.pdf\"\n",
    "\n",
    "cdc_text = extract_pdf_text(cdc_pdf_path)\n",
    "who_text = extract_pdf_text(who_pdf_path)\n",
    "\n",
    "# Save cleaned text files to DBFS\n",
    "cdc_txt_path = \"/dbfs/FileStore/rag_docs/cdc_faq_clean.txt\"\n",
    "who_txt_path = \"/dbfs/FileStore/rag_docs/who_guidelines_clean.txt\"\n",
    "\n",
    "with open(cdc_txt_path, \"w\") as f:\n",
    "    f.write(cdc_text)\n",
    "\n",
    "with open(who_txt_path, \"w\") as f:\n",
    "    f.write(who_text)\n",
    "\n",
    "print(\"✅ Text extracted and saved as:\")\n",
    "print(f\" - {cdc_txt_path}\")\n",
    "print(f\" - {who_txt_path}\")\n"
   ]
  },
  {
   "cell_type": "markdown",
   "metadata": {
    "application/vnd.databricks.v1+cell": {
     "cellMetadata": {},
     "inputWidgets": {},
     "nuid": "ce00b28c-4d41-4204-99e1-646dc05f31c2",
     "showTitle": false,
     "tableResultSettingsMap": {},
     "title": ""
    }
   },
   "source": [
    "## ✂️ Step 4: Apply Sentence-Level Chunking and Save as Delta Table\n",
    "\n",
    "In this step, we divide the cleaned text documents into **overlapping chunks** using a sentence-based strategy.\n",
    "\n",
    "### What happens in this step:\n",
    "- The CDC and WHO text files are loaded.\n",
    "- A chunking function splits the text into blocks of ~200 words, with a 50-word overlap between adjacent chunks.\n",
    "- Each chunk is stored along with metadata such as:\n",
    "  - `source` (document origin)\n",
    "  - `chunk_id` (sequence)\n",
    "  - `text` (the chunk content)\n",
    "- The result is saved as a Delta table in `/tmp/rag_chunks` for downstream processing.\n",
    "\n",
    "Chunking helps improve retrieval by giving the model smaller, coherent pieces of text that are easier to match with user queries.\n"
   ]
  },
  {
   "cell_type": "code",
   "execution_count": 0,
   "metadata": {
    "application/vnd.databricks.v1+cell": {
     "cellMetadata": {
      "byteLimit": 2048000,
      "rowLimit": 10000
     },
     "inputWidgets": {},
     "nuid": "fb764ec1-da5b-4399-8b44-93b85aba1ab7",
     "showTitle": false,
     "tableResultSettingsMap": {},
     "title": ""
    }
   },
   "outputs": [
    {
     "output_type": "stream",
     "name": "stderr",
     "output_type": "stream",
     "text": [
      "[nltk_data] Downloading package punkt to /root/nltk_data...\n[nltk_data]   Unzipping tokenizers/punkt.zip.\n"
     ]
    },
    {
     "output_type": "stream",
     "name": "stdout",
     "output_type": "stream",
     "text": [
      "✅ Chunking complete and Delta saved at: /tmp/rag_chunks\n"
     ]
    }
   ],
   "source": [
    "import os\n",
    "import pandas as pd\n",
    "import nltk\n",
    "nltk.download(\"punkt\")\n",
    "from nltk.tokenize import sent_tokenize\n",
    "\n",
    "# Define file paths\n",
    "dbfs_dir = \"/dbfs/FileStore/rag_docs\"\n",
    "cdc_txt_path = os.path.join(dbfs_dir, \"cdc_faq_clean.txt\")\n",
    "who_txt_path = os.path.join(dbfs_dir, \"who_guidelines_clean.txt\")\n",
    "delta_output_path = \"/tmp/rag_chunks\"  # Spark will write Delta here\n",
    "\n",
    "# Load cleaned text\n",
    "with open(cdc_txt_path, \"r\") as f:\n",
    "    cdc_text = f.read()\n",
    "\n",
    "with open(who_txt_path, \"r\") as f:\n",
    "    who_text = f.read()\n",
    "\n",
    "# Document metadata structure\n",
    "documents = [\n",
    "    {\"source\": \"cdc_faq\", \"text\": cdc_text},\n",
    "    {\"source\": \"who_guidelines\", \"text\": who_text}\n",
    "]\n",
    "\n",
    "# Define chunking logic\n",
    "def chunk_text(text, chunk_size=200, overlap=50):\n",
    "    sentences = sent_tokenize(text)\n",
    "    chunks = []\n",
    "    current_chunk = []\n",
    "    current_length = 0\n",
    "\n",
    "    for sentence in sentences:\n",
    "        words = sentence.split()\n",
    "        sentence_len = len(words)\n",
    "        if current_length + sentence_len > chunk_size:\n",
    "            chunks.append(\" \".join(current_chunk))\n",
    "            current_chunk = current_chunk[-overlap:] if overlap else []\n",
    "            current_length = sum(len(s.split()) for s in current_chunk)\n",
    "        current_chunk.extend(words)\n",
    "        current_length += sentence_len\n",
    "\n",
    "    if current_chunk:\n",
    "        chunks.append(\" \".join(current_chunk))\n",
    "\n",
    "    return chunks\n",
    "\n",
    "# Apply chunking\n",
    "all_chunks = []\n",
    "for doc in documents:\n",
    "    chunks = chunk_text(doc[\"text\"], chunk_size=200, overlap=50)\n",
    "    for i, chunk in enumerate(chunks):\n",
    "        all_chunks.append({\n",
    "            \"source\": doc[\"source\"],\n",
    "            \"chunk_id\": i,\n",
    "            \"text\": chunk\n",
    "        })\n",
    "\n",
    "# Convert to Spark DataFrame and write to Delta\n",
    "chunk_df = pd.DataFrame(all_chunks)\n",
    "spark_df = spark.createDataFrame(chunk_df)\n",
    "\n",
    "spark_df.write.mode(\"overwrite\").format(\"delta\").save(delta_output_path)\n",
    "\n",
    "print(f\"✅ Chunking complete and Delta saved at: {delta_output_path}\")\n"
   ]
  },
  {
   "cell_type": "markdown",
   "metadata": {
    "application/vnd.databricks.v1+cell": {
     "cellMetadata": {
      "byteLimit": 2048000,
      "rowLimit": 10000
     },
     "inputWidgets": {},
     "nuid": "bc589cef-e2fe-4937-91d4-08bd5e6871d0",
     "showTitle": false,
     "tableResultSettingsMap": {},
     "title": ""
    }
   },
   "source": [
    "## \uD83E\uDDE0 Step 5: Create an Embedding Endpoint in Databricks\n",
    "\n",
    "To convert our text chunks into vector embeddings, we will use a **pretrained embedding model** hosted as a **Databricks Model Serving endpoint**.\n",
    "\n",
    "Databricks offers a variety of foundation models that you can deploy quickly, including the BGE (`databricks-bge-large-en`) embedding model.\n",
    "\n",
    "### \uD83D\uDD27 Steps to Create the Embedding Endpoint\n",
    "\n",
    "1. **Go to the \"Serving\" tab** in your Databricks workspace UI.\n",
    "   - You can access it by navigating to:  \n",
    "     `Workspace → Machine Learning → Serving Endpoints`\n",
    "\n",
    "2. **Click \"Create Endpoint\"**\n",
    "\n",
    "3. Fill in the form with the following values:\n",
    "   - **Name**: `databricks-bge-large-en`\n",
    "   - **Served Model**:\n",
    "     - **Select Model**: `databricks-bge-large-en`\n",
    "     - **Task**: `embedding`\n",
    "     - **Model Version**: Use the latest available\n",
    "\n",
    "4. Click **Create** and wait for the endpoint status to show **ONLINE**\n",
    " \n",
    "\n",
    " "
   ]
  },
  {
   "cell_type": "markdown",
   "metadata": {
    "application/vnd.databricks.v1+cell": {
     "cellMetadata": {},
     "inputWidgets": {},
     "nuid": "49c40b4a-54d7-4435-b022-e6c0f5916b2c",
     "showTitle": false,
     "tableResultSettingsMap": {},
     "title": ""
    }
   },
   "source": [
    "## \uD83D\uDD22 Step 6: Generate Embeddings for Chunked Text\n",
    "\n",
    "Now that we have a running embedding endpoint (`databricks-bge-large-en`), we'll use it to convert each chunk of text into a high-dimensional vector representation.\n",
    "\n",
    "This vector (or \"embedding\") captures the **semantic meaning** of the chunk, which is essential for similarity search in RAG systems.\n",
    "\n",
    "### What this step does:\n",
    "- Defines a `pandas_udf` function to call the model serving endpoint in batches\n",
    "- Sends each batch of text chunks to the endpoint using the Databricks REST API\n",
    "- Receives vector embeddings in return\n",
    "- Converts and validates the embeddings as arrays of floats\n",
    "- Returns the result as a new column in the Spark DataFrame\n",
    "\n",
    "We batch the requests for efficiency and handle conversion to a `float32` format for compatibility with downstream vector search.\n",
    "\n",
    "\uD83D\uDCCC **Note**: The code uses the current user's API token from the notebook context for secure authorization.\n"
   ]
  },
  {
   "cell_type": "code",
   "execution_count": 0,
   "metadata": {
    "application/vnd.databricks.v1+cell": {
     "cellMetadata": {
      "byteLimit": 2048000,
      "rowLimit": 10000
     },
     "inputWidgets": {},
     "nuid": "3e60487a-5580-466c-9444-523c17fa2130",
     "showTitle": false,
     "tableResultSettingsMap": {},
     "title": ""
    }
   },
   "outputs": [],
   "source": [
    "import requests\n",
    "import json\n",
    "from pyspark.sql.functions import pandas_udf\n",
    "from pyspark.sql.types import ArrayType, FloatType\n",
    "import pandas as pd\n",
    "from typing import Iterator\n",
    "\n",
    "# Databricks REST endpoint and token\n",
    "endpoint_url = \"https://adb-3141834805281315.15.azuredatabricks.net/serving-endpoints/databricks-bge-large-en/invocations\"\n",
    "token = dbutils.notebook.entry_point.getDbutils().notebook().getContext().apiToken().get()\n",
    " \n",
    "headers = {\n",
    "    \"Authorization\": f\"Bearer {token}\",\n",
    "    \"Content-Type\": \"application/json\"\n",
    "}\n",
    "@pandas_udf(ArrayType(FloatType()))\n",
    "def get_embeddings_udf(texts: Iterator[pd.Series]) -> Iterator[pd.Series]:\n",
    "    for batch in texts:\n",
    "        try:\n",
    "            clean_batch = batch.dropna().astype(str)\n",
    "            clean_batch = clean_batch[clean_batch.str.len() > 10]\n",
    "\n",
    "            max_batch_size = 10\n",
    "            chunks = [clean_batch[i:i+max_batch_size] for i in range(0, len(clean_batch), max_batch_size)]\n",
    "            all_embeddings = []\n",
    "\n",
    "            for chunk in chunks:\n",
    "                payload = {\"input\": chunk.tolist()}\n",
    "                response = requests.post(endpoint_url, headers=headers, json=payload)\n",
    "                response.raise_for_status()\n",
    "\n",
    "                # FIX HERE: extract actual embeddings from dict\n",
    "                vectors = [item[\"embedding\"] for item in response.json().get(\"data\", [])]\n",
    "                all_embeddings.extend(vectors)\n",
    "\n",
    "            # Ensure conversion to float arrays\n",
    "            import numpy as np\n",
    "            validated = pd.Series([np.array(vec, dtype=np.float32).tolist() for vec in all_embeddings])\n",
    "            yield validated\n",
    "\n",
    "        except Exception as e:\n",
    "            print(\"❌ UDF embedding failure:\", str(e))\n",
    "            raise e\n",
    "\n"
   ]
  },
  {
   "cell_type": "markdown",
   "metadata": {
    "application/vnd.databricks.v1+cell": {
     "cellMetadata": {},
     "inputWidgets": {},
     "nuid": "42922d52-2f0d-430a-8b5b-c9e727d123b4",
     "showTitle": false,
     "tableResultSettingsMap": {},
     "title": ""
    }
   },
   "source": [
    "## \uD83D\uDCBE Step 7: Save Embedded Chunks to Delta\n",
    "\n",
    "In this step, we apply the embedding UDF defined earlier to each chunk of text, and save the resulting vector-enriched dataset.\n",
    "\n",
    "### What this step does:\n",
    "- Loads the chunked data stored in Delta format from `/tmp/rag_chunks`\n",
    "- Applies the embedding UDF to the `text` column\n",
    "- Adds a new `embedding` column containing a vector for each chunk\n",
    "- Saves the resulting DataFrame as a new Delta table at `/tmp/rag_chunks_embedded`\n",
    "\n",
    "This table serves as the input for indexing in the next step using Databricks Vector Search.\n"
   ]
  },
  {
   "cell_type": "code",
   "execution_count": 0,
   "metadata": {
    "application/vnd.databricks.v1+cell": {
     "cellMetadata": {
      "byteLimit": 2048000,
      "rowLimit": 10000
     },
     "inputWidgets": {},
     "nuid": "2e2e74ae-27cd-4a5f-b002-4a37b9ae5c16",
     "showTitle": false,
     "tableResultSettingsMap": {},
     "title": ""
    }
   },
   "outputs": [
    {
     "output_type": "stream",
     "name": "stdout",
     "output_type": "stream",
     "text": [
      "✅ Embedded chunks saved at /tmp/rag_chunks_embedded\n"
     ]
    }
   ],
   "source": [
    "# Load chunks from previous step\n",
    "chunk_df = spark.read.format(\"delta\").load(\"/tmp/rag_chunks\")\n",
    "\n",
    "# Embed and add embeddings column\n",
    "embedded_df = chunk_df.withColumn(\"embedding\", get_embeddings_udf(\"text\"))\n",
    "\n",
    "# Save to new Delta location\n",
    "embedded_df.write.mode(\"overwrite\").format(\"delta\").save(\"/tmp/rag_chunks_embedded\")\n",
    "\n",
    "print(\"✅ Embedded chunks saved at /tmp/rag_chunks_embedded\")\n"
   ]
  },
  {
   "cell_type": "markdown",
   "metadata": {
    "application/vnd.databricks.v1+cell": {
     "cellMetadata": {},
     "inputWidgets": {},
     "nuid": "4b91d336-1731-4cc4-9dc5-168f0c812891",
     "showTitle": false,
     "tableResultSettingsMap": {},
     "title": ""
    }
   },
   "source": [
    "## \uD83E\uDDED Step 8: Create a Vector Search Endpoint and Index\n",
    "\n",
    "Now that our document chunks have embeddings, we will set up a **Vector Search index** to enable fast and semantic retrieval.\n",
    "\n",
    "### What this step does:\n",
    "- Uses the `databricks-vectorsearch` SDK to connect to a pre-created vector search endpoint (e.g., `orielly-chapter2-endpoint`)\n",
    "- Points the index to the Delta table at `/tmp/rag_chunks_embedded`\n",
    "- Automatically uses the `embedding` column for indexing\n",
    "- Uses a primary key such as `chunk_id` and `source` for deduplication and tracking\n",
    "- Sets the sync mode to `TRIGGERED` so that changes to the Delta table can be reflected in the index as needed\n",
    "\n",
    "After this step, the vector index will be able to serve similarity-based searches over semantically embedded chunks.\n"
   ]
  },
  {
   "cell_type": "code",
   "execution_count": 0,
   "metadata": {
    "application/vnd.databricks.v1+cell": {
     "cellMetadata": {
      "byteLimit": 2048000,
      "rowLimit": 10000
     },
     "inputWidgets": {},
     "nuid": "22b44999-a49b-4947-b9f6-be2b296d2f20",
     "showTitle": false,
     "tableResultSettingsMap": {},
     "title": ""
    }
   },
   "outputs": [
    {
     "output_type": "stream",
     "name": "stdout",
     "output_type": "stream",
     "text": [
      "ℹ️ Vector Search endpoint 'orielly-chapter2-endpoint' already exists.\nStatus: ONLINE\n✅ Vector Search endpoint 'orielly-chapter2-endpoint' is ready.\n"
     ]
    }
   ],
   "source": [
    "from databricks.vector_search.client import VectorSearchClient\n",
    "import time\n",
    "\n",
    "VECTOR_SEARCH_ENDPOINT_NAME = \"orielly-chapter2-endpoint\"\n",
    "vsc = VectorSearchClient(disable_notice=True)\n",
    "\n",
    "def endpoint_exists(vsc, endpoint_name):\n",
    "    try:\n",
    "        vsc.get_endpoint(endpoint_name)\n",
    "        return True\n",
    "    except Exception as e:\n",
    "        if \"NOT_FOUND\" in str(e) or \"does not exist\" in str(e):\n",
    "            return False\n",
    "        raise e\n",
    "\n",
    "def wait_for_vs_endpoint_to_be_ready(vsc, endpoint_name, timeout=700, poll_interval=15):\n",
    "    start_time = time.time()\n",
    "    while True:\n",
    "        try:\n",
    "            status = vsc.get_endpoint(endpoint_name).get(\"endpoint_status\", {}).get(\"state\", \"\")\n",
    "            print(f\"Status: {status}\")\n",
    "            if status == \"ONLINE\":\n",
    "                print(f\"✅ Vector Search endpoint '{endpoint_name}' is ready.\")\n",
    "                break\n",
    "        except Exception as e:\n",
    "            print(f\"[WARN] Failed to get endpoint status: {e}\")\n",
    "\n",
    "        if time.time() - start_time > timeout:\n",
    "            raise TimeoutError(f\"❌ Timeout: Endpoint '{endpoint_name}' was not ready after {timeout} seconds.\")\n",
    "        time.sleep(poll_interval)\n",
    "\n",
    "# \uD83D\uDE80 Create endpoint if needed\n",
    "if not endpoint_exists(vsc, VECTOR_SEARCH_ENDPOINT_NAME):\n",
    "    print(f\"\uD83D\uDE80 Creating Vector Search endpoint: {VECTOR_SEARCH_ENDPOINT_NAME}\")\n",
    "    vsc.create_endpoint(name=VECTOR_SEARCH_ENDPOINT_NAME, endpoint_type=\"STANDARD\")\n",
    "    time.sleep(5)  # Allow time for provisioning to start\n",
    "else:\n",
    "    print(f\"ℹ️ Vector Search endpoint '{VECTOR_SEARCH_ENDPOINT_NAME}' already exists.\")\n",
    "\n",
    "# ⏳ Wait for it to be ready\n",
    "wait_for_vs_endpoint_to_be_ready(vsc, VECTOR_SEARCH_ENDPOINT_NAME)"
   ]
  },
  {
   "cell_type": "markdown",
   "metadata": {
    "application/vnd.databricks.v1+cell": {
     "cellMetadata": {},
     "inputWidgets": {},
     "nuid": "a7213121-8abd-4a12-9770-29f01340a84f",
     "showTitle": false,
     "tableResultSettingsMap": {},
     "title": ""
    }
   },
   "source": [
    "## \uD83D\uDDC2️ Step 8.1: Register Embedded Delta Table\n",
    "\n",
    "To simplify integration with Vector Search and allow for querying with SQL, you can register the embedded Delta dataset as a managed table.\n",
    "\n",
    "### What this step does:\n",
    "- Loads the Delta file from `/tmp/rag_chunks_embedded`\n",
    "- Registers it as a table in the Unity Catalog or Hive Metastore (e.g., `main.default.rag_chunks_embedded`)\n",
    "- Makes the table accessible for indexing, querying, or syncing with Vector Search\n",
    "\n",
    "\uD83D\uDCCC **Note**: If your Vector Search index was already created from a Delta table reference, this step may be skipped unless re-registration is needed."
   ]
  },
  {
   "cell_type": "code",
   "execution_count": 0,
   "metadata": {
    "application/vnd.databricks.v1+cell": {
     "cellMetadata": {
      "byteLimit": 2048000,
      "rowLimit": 10000
     },
     "inputWidgets": {},
     "nuid": "c6b87231-689f-488d-b57b-6337c9734f14",
     "showTitle": false,
     "tableResultSettingsMap": {},
     "title": ""
    }
   },
   "outputs": [],
   "source": [
    "# Register as a table if needed (or skip if already done)\n",
    "spark.read.format(\"delta\").load(\"/tmp/rag_chunks_embedded\").write.mode(\"overwrite\").saveAsTable(\"main.default.rag_chunks_embedded\")\n"
   ]
  },
  {
   "cell_type": "markdown",
   "metadata": {
    "application/vnd.databricks.v1+cell": {
     "cellMetadata": {},
     "inputWidgets": {},
     "nuid": "a2f26c84-b4a3-46a6-a4f8-0275701b34e7",
     "showTitle": false,
     "tableResultSettingsMap": {},
     "title": ""
    }
   },
   "source": [
    "## \uD83E\uDDE0 Step 9: Create and Sync a Vector Search Index\n",
    "\n",
    "Now that the embedded document chunks have been saved to a Delta table, we’ll create a **Vector Search index** so we can perform fast similarity searches.\n",
    "\n",
    "This step uses the `databricks-vectorsearch` SDK to programmatically register the index and sync it with your Delta table.\n",
    "\n",
    "### What this step does:\n",
    "- Initializes the `VectorSearchClient`\n",
    "- Enables **Change Data Feed (CDF)** on the Delta table to allow syncing\n",
    "- Checks if the index already exists on the specified endpoint\n",
    "- Creates the index\n"
   ]
  },
  {
   "cell_type": "code",
   "execution_count": 0,
   "metadata": {
    "application/vnd.databricks.v1+cell": {
     "cellMetadata": {
      "byteLimit": 2048000,
      "rowLimit": 10000
     },
     "inputWidgets": {},
     "nuid": "8f0422d1-58ad-4f38-b09d-49d43ee7716d",
     "showTitle": false,
     "tableResultSettingsMap": {},
     "title": ""
    }
   },
   "outputs": [
    {
     "output_type": "stream",
     "name": "stdout",
     "output_type": "stream",
     "text": [
      "[INFO] CDF enabled on main.default.rag_chunks_embedded\n[INFO] Waiting for index main.default.rag_chunks_index to be ready...\n[✅ SUCCESS] Index 'main.default.rag_chunks_index' is ready.\n[INFO] Syncing index with latest data...\n[✅] Index main.default.rag_chunks_index synced successfully.\n"
     ]
    }
   ],
   "source": [
    "from databricks.vector_search.client import VectorSearchClient\n",
    "import time\n",
    "\n",
    "# Configuration (update catalog/schema/table if different)\n",
    "catalog = \"main\"\n",
    "schema = \"default\"\n",
    "table = \"rag_chunks_embedded\"\n",
    "index = \"rag_chunks_index\"\n",
    "\n",
    "VECTOR_SEARCH_ENDPOINT_NAME = \"orielly-chapter2-endpoint\"\n",
    "EMBEDDING_ENDPOINT_NAME = \"databricks-bge-large-en\"\n",
    "\n",
    "source_table_fullname = f\"{catalog}.{schema}.{table}\"\n",
    "vs_index_fullname = f\"{catalog}.{schema}.{index}\"\n",
    "\n",
    "# Initialize Vector Search Client\n",
    "vsc = VectorSearchClient(disable_notice=True)\n",
    "\n",
    "# ✅ Enable Change Data Feed (required for triggered sync)\n",
    "try:\n",
    "    spark.sql(f\"ALTER TABLE {source_table_fullname} SET TBLPROPERTIES (delta.enableChangeDataFeed = true)\")\n",
    "    print(f\"[INFO] CDF enabled on {source_table_fullname}\")\n",
    "except Exception as e:\n",
    "    print(f\"[WARN] Could not enable CDF (maybe already enabled): {e}\")\n",
    "\n",
    "# ✅ Check if index already exists\n",
    "def index_exists(vsc, endpoint, index_name):\n",
    "    try:\n",
    "        vsc.get_index(endpoint_name=endpoint, index_name=index_name)\n",
    "        return True\n",
    "    except Exception as e:\n",
    "        if \"NOT_FOUND\" in str(e) or \"does not exist\" in str(e):\n",
    "            return False\n",
    "        raise e\n",
    "\n",
    "# ✅ Create index if it doesn't exist\n",
    "if not index_exists(vsc, VECTOR_SEARCH_ENDPOINT_NAME, vs_index_fullname):\n",
    "    print(f\"[INFO] Creating index {vs_index_fullname} on endpoint {VECTOR_SEARCH_ENDPOINT_NAME}...\")\n",
    "    vsc.create_delta_sync_index(\n",
    "        endpoint_name=VECTOR_SEARCH_ENDPOINT_NAME,\n",
    "        index_name=vs_index_fullname,\n",
    "        source_table_name=source_table_fullname,\n",
    "        pipeline_type=\"TRIGGERED\",  # Keeps index in sync with table\n",
    "        primary_key=\"chunk_id\",     # Assumes your table has 'chunk_id'\n",
    "        embedding_source_column=\"text\",  # Column with raw text to embed\n",
    "        embedding_model_endpoint_name=EMBEDDING_ENDPOINT_NAME\n",
    "    )\n",
    "\n",
    "# ✅ Wait until index is online\n",
    "print(f\"[INFO] Waiting for index {vs_index_fullname} to be ready...\")\n",
    "index_obj = vsc.get_index(endpoint_name=VECTOR_SEARCH_ENDPOINT_NAME, index_name=vs_index_fullname)\n",
    "index_obj.wait_until_ready()\n",
    "print(f\"[✅ SUCCESS] Index '{vs_index_fullname}' is ready.\")\n",
    "\n",
    "# ✅ Optional: Manually sync (if needed)\n",
    "print(f\"[INFO] Syncing index with latest data...\")\n",
    "index_obj.sync()\n",
    "print(f\"[✅] Index {vs_index_fullname} synced successfully.\")\n"
   ]
  },
  {
   "cell_type": "markdown",
   "metadata": {
    "application/vnd.databricks.v1+cell": {
     "cellMetadata": {},
     "inputWidgets": {},
     "nuid": "0e4b187e-b4d4-4881-8188-1b50ee9c089b",
     "showTitle": false,
     "tableResultSettingsMap": {},
     "title": ""
    }
   },
   "source": [
    "## \uD83D\uDD0D Step 10: Perform a Semantic Search Query\n",
    "\n",
    "With your vector index built and synced, you can now issue a **natural language question** and retrieve semantically relevant document chunks.\n",
    "\n",
    "This simulates the **retrieval step** in a Retrieval-Augmented Generation (RAG) pipeline.\n",
    "\n",
    "### What this step does:\n",
    "- Sends a user question (e.g., \"What are the symptoms of COVID-19?\") to the index\n",
    "- Retrieves the top matching text chunks from the index based on vector similarity\n",
    "- Displays relevant metadata: `chunk_id`, `source`, and the retrieved `text`\n",
    "\n",
    "\uD83D\uDCCC **Note**: You can change the `question` variable to test additional queries or adjust the `num_results` to explore how many chunks are returned.\n",
    "\n",
    "This result will later be fed into an LLM for answer generation.\n"
   ]
  },
  {
   "cell_type": "code",
   "execution_count": 0,
   "metadata": {
    "application/vnd.databricks.v1+cell": {
     "cellMetadata": {
      "byteLimit": 2048000,
      "rowLimit": 10000
     },
     "inputWidgets": {},
     "nuid": "8af1cb35-556f-4c2f-9bb1-42aec6b9e16d",
     "showTitle": false,
     "tableResultSettingsMap": {},
     "title": ""
    }
   },
   "outputs": [
    {
     "output_type": "stream",
     "name": "stdout",
     "output_type": "stream",
     "text": [
      "[NOTICE] Using a notebook authentication token. Recommended for development only. For improved performance, please use Service Principal based authentication. To disable this message, pass disable_notice=True.\n\n\uD83D\uDD39 Result 1\nSource: who_guidelines\nChunk ID: 226.0\nText:\nclearly explained to patients and relatives. 24. Care of COVID-19 patients after acute illness (new chapter) New evidence is emerging about COVID-19 related persistent symptoms, which have parallels with other coronavirus diseases (204). The clinical characterization of mid- and long-term effect of COVID-19 remain to be clearly described and understood. In hospitalized patients, ICU and non-ICU, there are reports of new illness-related fatigue, breathlessness, PTSD symptoms, pain, voice change, cough, dysphagia, anxiety, depression, and problems with concentration, memory and continence. Patients admitted to ICU had greater prevalence of symptoms in almost all reported symptom domains than COVID-19 patients not admitted to ICU (202). As well, more than half of all COVID-19 patients who had been hospitalized, regardless of their clinical management, reported persistence of fatigue at 60 days since the onset of symptoms (202,203). Early findings report, most common ongoing symptoms (regardless of hospitalization status) are fatigue, muscle ache, shortness of breath and headache at a follow up of 4 months (205). Not returning to usual health within 2–3 weeks of testing was reported by approximately one third of symptomatic adults in an outpatient setting (206).\n\n\uD83D\uDD39 Result 2\nSource: who_guidelines\nChunk ID: 57.0\nText:\nguidance Table 6.1 Symptoms associated with COVID-19 Presenting signs and symptoms of COVID-19 vary. Most persons experience fever (83–99%), cough (59–82%), fatigue (44–70%), anorexia (40–84%), shortness of breath (31–40%), myalgias (11–35%). Other non-specific symptoms, such as sore throat, nasal congestion, headache, diarrhoea, nausea and vomiting, have also been reported (28,77,78,79). Loss of smell (anosmia) or loss of taste (ageusia) preceding the onset of respiratory symptoms has also been reported (31,80,81). Additional neurological manifestations reported include dizziness, agitation, weakness, seizures, or findings suggestive of stroke including trouble with speech or vision, sensory loss, or problems with balance in standing or walking (32,33). Older people and immunosuppressed patients in particular may present with atypical symptoms such as fatigue, reduced alertness, reduced mobility, diarrhoea, loss of appetite, confusion, and absence of fever (62,63,64). Symptoms such as dyspnoea, fever, gastrointestinal (GI) symptoms or fatigue due to physiologic adaptations in pregnant women, adverse pregnancy events, or other diseases such as malaria, may overlap with symptoms of COVID-19 (82). Children might not have reported fever or cough as frequently as adults (83). Table 6.2 Risk factors associated with severe disease Age more than 60 years (increasing with age).\n\n\uD83D\uDD39 Result 3\nSource: who_guidelines\nChunk ID: 84.0\nText:\nshould prompt urgent care. Remark: Patients with risk factors for severe illness should be monitored closely, given the possible risk of deterioration. If they develop any worsening symptoms (such as light headedness, difficulty breathing, chest pain, dehydration, etc. ), they should seek urgent care through the established COVID-19 care pathway. Caregivers of children with mild COVID-19 should monitor for signs and symptoms of clinical deterioration requiring urgent re-evaluation. These include difficulty breathing/fast or shallow breathing (for infants: grunting, inability to breastfeed), blue lips or face, chest pain or pressure, new confusion, inability to awaken/not interacting when awake, inability to drink or keep down any liquids. Consider alternative delivery platforms such as home-based, phone, telemedicine or community outreach teams to assist with monitoring (110). See new recommendation in Chapter 10 on use of home pulse oximetry. We recommend that antibiotic therapy or prophylaxis should not be used in patients with mild COVID-19. Remark: Widespread use of antibiotics should be discouraged, as their use may lead to higher bacterial resistance rates, which will impact the burden of disease and deaths in a population during the COVID-19 pandemic and beyond (111,112,113). 26 Clinical management of COVID-19: living guidance 10.\n\n\uD83D\uDD39 Result 4\nSource: who_guidelines\nChunk ID: 180.0\nText:\nto ICU had greater prevalence of symptoms in almost all reported symptom domains than COVID-19 patients not admitted to ICU (202). More than half of all COVID-19 patients who had been hospitalized, regardless of their clinical management, reported persistence of fatigue at 60 days since the onset of symptoms (202,203). With progression of the pandemic and the follow up of patients who have not been critically ill, new evidence is emerging about COVID-19 related persistent symptoms, which have parallels with other coronavirus diseases. Some patients with SARS-CoV-1 infection went on to develop a long-term illness with widespread pain, fatigue, depression and sleep disturbance (204,205). PTSD has also been described after SARS- CoV- 1 infection (205,205). Early findings report, most commonly reported ongoing symptoms (regardless of hospitalization status) are fatigue, muscle ache, shortness of breath and headache at a follow up of 4 months (205). Not returning to usual health within 2–3 weeks of testing was reported by approximately one third of symptomatic adults in an outpatient setting (206). A study reported that at 3 months after the onset of symptoms, one third of non-hospitalized patients were to some degree dependent on others for personal care (207).\n\n\uD83D\uDD39 Result 5\nSource: who_guidelines\nChunk ID: 21.0\nText:\nmyalgias, delirium/encephalopathy, agitation, stroke, hypoxic ischaemic brain injury, seizures, coma, meningo-encephalitis and Guillain-Barré syndrome (32,33,34,35). Anxiety and depression appear to be common amongst people hospitalized for COVID-19, with one hospitalized cohort from Wuhan, China, revealing over 34% of people experiencing symptoms of anxiety and 28% experiencing symptoms of depression (36). Preliminary findings from retrospective cohort studies of over 60 000 COVID-19 cases in the United States of America indicate an 18.1% incidence of psychiatric diagnoses (including anxiety disorders and insomnia) in the first 2 weeks to 3 months after COVID-19 diagnosis, 5.8% of which were new diagnoses (37). In many cases, neurological manifestations have been reported even without respiratory symptoms. Over 80% of COVID-19 patients in a hospitalized United States' cohort experienced neurological symptoms during the course of their illness and these manifestations were associated with a four-fold higher risk of severe COVID-19 in this cohort (38). An observational case series from France found that 65% of people with COVID-19 in ICUs showed signs of confusion (or delirium) and 69% experienced agitation (39). Delirium, in particular, has been associated with increased mortality risk in the context of COVID-19 (40).\n"
     ]
    }
   ],
   "source": [
    "from databricks.vector_search.client import VectorSearchClient\n",
    "\n",
    "# Your question for RAG\n",
    "question = \"What are the symptoms of COVID-19?\"\n",
    "\n",
    "# Define index location\n",
    "catalog = \"main\"\n",
    "schema = \"default\"\n",
    "table = \"rag_chunks_embedded\"\n",
    "index = \"rag_chunks_index\"\n",
    "\n",
    "VECTOR_SEARCH_ENDPOINT_NAME = \"orielly-chapter2-endpoint\"\n",
    "vs_index_fullname = f\"{catalog}.{schema}.{index}\"\n",
    "\n",
    "# Initialize client\n",
    "vsc = VectorSearchClient(disable_notice=True)\n",
    "\n",
    "# Perform similarity search\n",
    "results = vsc.get_index(endpoint_name=VECTOR_SEARCH_ENDPOINT_NAME, index_name=vs_index_fullname).similarity_search(\n",
    "    query_text=question,\n",
    "    columns=[\"chunk_id\", \"source\", \"text\"],  # Your table columns\n",
    "    num_results=5  # Adjust as needed\n",
    ")\n",
    "\n",
    "# Extract and display results\n",
    "docs = results.get(\"result\", {}).get(\"data_array\", [])\n",
    "for i, row in enumerate(docs, start=1):\n",
    "    print(f\"\\n\uD83D\uDD39 Result {i}\")\n",
    "    print(f\"Source: {row[1]}\")  # source\n",
    "    print(f\"Chunk ID: {row[0]}\")  # chunk_id\n",
    "    print(f\"Text:\\n{row[2]}\")  # text\n"
   ]
  },
  {
   "cell_type": "markdown",
   "metadata": {
    "application/vnd.databricks.v1+cell": {
     "cellMetadata": {},
     "inputWidgets": {},
     "nuid": "08f64f78-8bad-4883-8333-dab82886fa92",
     "showTitle": false,
     "tableResultSettingsMap": {},
     "title": ""
    }
   },
   "source": [
    "## \uD83D\uDCCF Step 11: Evaluate Chunk Size Effects on Precision\n",
    "\n",
    "In this step, you'll simulate how different chunk sizes influence the **precision** of retrieved results.\n",
    "\n",
    "### What this step does:\n",
    "- Sends a query (e.g., \"What is the isolation protocol?\") to the vector index\n",
    "- Retrieves a fixed number of top matching chunks (`top_k = 10`)\n",
    "- For each simulated chunk size (50, 150, 300, 600 tokens):\n",
    "  - Filters retrieved chunks that approximately match that size\n",
    "  - Calculates a simple match score based on keyword overlap (e.g., whether `\"isolation\"` appears)\n",
    "  - Stores and visualizes a proxy metric for **precision**\n",
    "\n",
    "### Why this matters:\n",
    "Smaller chunks are more likely to be focused and precise, but might miss broader context. Larger chunks provide more context but may reduce precision by introducing irrelevant content.\n",
    "\n",
    "You’ll plot how match score (as a proxy for precision) changes with increasing chunk size.\n"
   ]
  },
  {
   "cell_type": "code",
   "execution_count": 0,
   "metadata": {
    "application/vnd.databricks.v1+cell": {
     "cellMetadata": {
      "byteLimit": 2048000,
      "rowLimit": 10000
     },
     "inputWidgets": {},
     "nuid": "3229315d-b279-4118-8253-e3630e11f23c",
     "showTitle": false,
     "tableResultSettingsMap": {},
     "title": ""
    }
   },
   "outputs": [
    {
     "output_type": "stream",
     "name": "stdout",
     "output_type": "stream",
     "text": [
      "[NOTICE] Using a notebook authentication token. Recommended for development only. For improved performance, please use Service Principal based authentication. To disable this message, pass disable_notice=True.\n"
     ]
    },
    {
     "output_type": "display_data",
     "data": {
      "text/html": [
       "<style scoped>\n",
       "  .table-result-container {\n",
       "    max-height: 300px;\n",
       "    overflow: auto;\n",
       "  }\n",
       "  table, th, td {\n",
       "    border: 1px solid black;\n",
       "    border-collapse: collapse;\n",
       "  }\n",
       "  th, td {\n",
       "    padding: 5px;\n",
       "  }\n",
       "  th {\n",
       "    text-align: left;\n",
       "  }\n",
       "</style><div class='table-result-container'><table class='table-result'><thead style='background-color: white'><tr><th>Chunk Size</th><th>Filtered Retrieved</th><th>Match Score (proxy for precision)</th><th>Comment</th></tr></thead><tbody><tr><td>50</td><td>0</td><td>0.0</td><td>Smaller chunks are more likely focused, larger may dilute precision</td></tr><tr><td>150</td><td>2</td><td>0.5</td><td>Smaller chunks are more likely focused, larger may dilute precision</td></tr><tr><td>300</td><td>10</td><td>0.4</td><td>Smaller chunks are more likely focused, larger may dilute precision</td></tr><tr><td>600</td><td>10</td><td>0.4</td><td>Smaller chunks are more likely focused, larger may dilute precision</td></tr></tbody></table></div>"
      ]
     },
     "metadata": {
      "application/vnd.databricks.v1+output": {
       "addedWidgets": {},
       "aggData": [],
       "aggError": "",
       "aggOverflow": false,
       "aggSchema": [],
       "aggSeriesLimitReached": false,
       "aggType": "",
       "arguments": {},
       "columnCustomDisplayInfos": {},
       "data": [
        [
         50,
         0,
         0.0,
         "Smaller chunks are more likely focused, larger may dilute precision"
        ],
        [
         150,
         2,
         0.5,
         "Smaller chunks are more likely focused, larger may dilute precision"
        ],
        [
         300,
         10,
         0.4,
         "Smaller chunks are more likely focused, larger may dilute precision"
        ],
        [
         600,
         10,
         0.4,
         "Smaller chunks are more likely focused, larger may dilute precision"
        ]
       ],
       "datasetInfos": [],
       "dbfsResultPath": null,
       "isJsonSchema": true,
       "metadata": {},
       "overflow": false,
       "plotOptions": {
        "customPlotOptions": {},
        "displayType": "table",
        "pivotAggregation": null,
        "pivotColumns": null,
        "xColumns": null,
        "yColumns": null
       },
       "removedWidgets": [],
       "schema": [
        {
         "metadata": "{}",
         "name": "Chunk Size",
         "type": "\"long\""
        },
        {
         "metadata": "{}",
         "name": "Filtered Retrieved",
         "type": "\"long\""
        },
        {
         "metadata": "{}",
         "name": "Match Score (proxy for precision)",
         "type": "\"double\""
        },
        {
         "metadata": "{}",
         "name": "Comment",
         "type": "\"string\""
        }
       ],
       "type": "table"
      }
     },
     "output_type": "display_data"
    },
    {
     "output_type": "display_data",
     "data": {
      "image/png": "[encoded data removed]",
      "text/plain": [
       "<Figure size 640x480 with 1 Axes>"
      ]
     },
     "metadata": {},
     "output_type": "display_data"
    }
   ],
   "source": [
    "import pandas as pd\n",
    "import matplotlib.pyplot as plt\n",
    "\n",
    "chunk_sizes = [50, 150, 300, 600]\n",
    "precision_simulation = []\n",
    "\n",
    "question = \"What is the isolation protocol?\"\n",
    "\n",
    "# Retrieve once from full index\n",
    "top_k = 10\n",
    "results = vsc.get_index(\n",
    "    endpoint_name=\"orielly-chapter2-endpoint\",\n",
    "    index_name=\"main.default.rag_chunks_index\"\n",
    ").similarity_search(\n",
    "    query_text=question,\n",
    "    columns=[\"chunk_id\", \"source\", \"text\"],\n",
    "    num_results=top_k\n",
    ")\n",
    "\n",
    "retrieved = results.get(\"result\", {}).get(\"data_array\", [])\n",
    "\n",
    "# Now simulate precision for different chunk sizes by analyzing retrieved chunks\n",
    "for size in chunk_sizes:\n",
    "    filtered_chunks = [row for row in retrieved if len(row[2].split()) <= size + 25]\n",
    "    filtered_k = len(filtered_chunks)\n",
    "    if filtered_k == 0:\n",
    "        precision_score = 0\n",
    "    else:\n",
    "        precision_score = sum([\"isolation\" in row[2].lower() for row in filtered_chunks]) / filtered_k\n",
    "\n",
    "    precision_simulation.append({\n",
    "        \"Chunk Size\": size,\n",
    "        \"Filtered Retrieved\": filtered_k,\n",
    "        \"Match Score (proxy for precision)\": precision_score,\n",
    "        \"Comment\": \"Smaller chunks are more likely focused, larger may dilute precision\"\n",
    "    })\n",
    "\n",
    "# Display and plot\n",
    "df_eval = pd.DataFrame(precision_simulation)\n",
    "display(df_eval)\n",
    "\n",
    "plt.plot(df_eval[\"Chunk Size\"], df_eval[\"Match Score (proxy for precision)\"], marker=\"o\")\n",
    "plt.title(\"Adjusted Precision Proxy by Chunk Size\")\n",
    "plt.xlabel(\"Chunk Size (tokens)\")\n",
    "plt.ylabel(\"Match Score\")\n",
    "plt.ylim(0, 1.05)\n",
    "plt.grid(True)\n",
    "plt.tight_layout()\n",
    "plt.show()\n"
   ]
  },
  {
   "cell_type": "markdown",
   "metadata": {
    "application/vnd.databricks.v1+cell": {
     "cellMetadata": {},
     "inputWidgets": {},
     "nuid": "ee12cd52-e3ec-4f22-8ee1-18d96b130911",
     "showTitle": false,
     "tableResultSettingsMap": {},
     "title": ""
    }
   },
   "source": [
    "## \uD83D\uDCCA Interpreting Precision by Chunk Size\n",
    "\n",
    "This graph visualizes how different chunk sizes affect the **precision** of retrieval in a RAG system, based on the query:\n",
    "\n",
    "> _\"What is the isolation protocol?\"_\n",
    "\n",
    "### \uD83D\uDCC8 What the graph shows:\n",
    "- **X-axis**: Chunk sizes (tokens) used during preprocessing.\n",
    "- **Y-axis**: Match score (used as a proxy for precision), indicating how many retrieved chunks contained the relevant keyword (`\"isolation\"`).\n",
    "\n",
    "### Key Observations:\n",
    "- **50-token chunks** have near-zero precision — they are likely too short to retain full semantic meaning.\n",
    "- **150-token chunks** yield the highest precision (~0.5), balancing enough context with focus.\n",
    "- **300 and 600-token chunks** show slightly lower but stable precision — they may contain relevant info, but also more noise.\n",
    "\n",
    "### Takeaway:\n",
    "Medium-sized chunks (~150 tokens) tend to offer the best trade-off for precision. They are large enough to preserve meaning, but not so large that irrelevant content dilutes retrieval quality.\n",
    "\n",
    "\uD83E\uDDE0 This emphasizes the importance of **granularity tuning** in document chunking for effective retrieval.\n"
   ]
  },
  {
   "cell_type": "markdown",
   "metadata": {
    "application/vnd.databricks.v1+cell": {
     "cellMetadata": {},
     "inputWidgets": {},
     "nuid": "c94ee5ed-caba-47d7-8c9a-9e1fff261d67",
     "showTitle": false,
     "tableResultSettingsMap": {},
     "title": ""
    }
   },
   "source": [
    "## \uD83D\uDD00 Step 12: Implement a Hybrid Search Strategy\n",
    "\n",
    "This step demonstrates how to build a **hybrid search function** that combines:\n",
    "\n",
    "1. **Dense retrieval** using a vector index (powered by embeddings)\n",
    "2. A **keyword-based fallback** using Spark SQL (BM25-style proxy)\n",
    "\n",
    "### What the code does:\n",
    "- Tries semantic search using the Vector Search index first.\n",
    "- If that fails or returns no results, falls back to simple keyword filtering across chunked text.\n",
    "- This dual-mode logic increases robustness and ensures the user gets a response, even if embeddings are not perfectly aligned with the query.\n",
    "\n",
    "### When to use hybrid search:\n",
    "- **Dense search** works well for fuzzy, natural language questions.\n",
    "- **Keyword search** can serve as a reliable fallback for specific term matches or domain-specific jargon not captured in the embedding space.\n",
    "\n",
    "\uD83D\uDCCC **Tip**: You can extend this pattern by weighting or combining both results using scoring rules, or exposing fallback options in your application’s interface.\n"
   ]
  },
  {
   "cell_type": "code",
   "execution_count": 0,
   "metadata": {
    "application/vnd.databricks.v1+cell": {
     "cellMetadata": {
      "byteLimit": 2048000,
      "rowLimit": 10000
     },
     "inputWidgets": {},
     "nuid": "32883dc6-c95a-4164-8497-1268b432aa3d",
     "showTitle": false,
     "tableResultSettingsMap": {},
     "title": ""
    }
   },
   "outputs": [
    {
     "output_type": "stream",
     "name": "stdout",
     "output_type": "stream",
     "text": [
      "\uD83D\uDD0D Trying dense vector search...\n[NOTICE] Using a notebook authentication token. Recommended for development only. For improved performance, please use Service Principal based authentication. To disable this message, pass disable_notice=True.\n✅ Dense search returned 5 results.\n\n\uD83D\uDD39 Chunk: 226.0\nSource: who_guidelines\nText:\nclearly explained to patients and relatives. 24. Care of COVID-19 patients after acute illness (new chapter) New evidence is emerging about COVID-19 related persistent symptoms, which have parallels with other coronavirus diseases (204). The clinical characterization of mid- and long-term effect of COVID-19 remain to be clearly described and understood. In hospitalized patients, ICU and non-ICU, there are reports of new illness-related fatigue, breathlessness, PTSD symptoms, pain, voice change, cough, dysphagia, anxiety, depression, and problems with concentration, memory and continence. Patients admitted to ICU had greater prevalence of symptoms in almost all reported symptom domains than COVID-19 patients not admitted to ICU (202). As well, more than half of all COVID-19 patients who had been hospitalized, regardless of their clinical management, reported persistence of fatigue at 60 days since the onset of symptoms (202,203). Early findings report, most common ongoing symptoms (regardless of hospitalization status) are fatigue, muscle ache, shortness of breath and headache at a follow up of 4 months (205). Not returning to usual health within 2–3 weeks of testing was reported by approximately one third of symptomatic adults in an outpatient setting (206).\n\n\uD83D\uDD39 Chunk: 57.0\nSource: who_guidelines\nText:\nguidance Table 6.1 Symptoms associated with COVID-19 Presenting signs and symptoms of COVID-19 vary. Most persons experience fever (83–99%), cough (59–82%), fatigue (44–70%), anorexia (40–84%), shortness of breath (31–40%), myalgias (11–35%). Other non-specific symptoms, such as sore throat, nasal congestion, headache, diarrhoea, nausea and vomiting, have also been reported (28,77,78,79). Loss of smell (anosmia) or loss of taste (ageusia) preceding the onset of respiratory symptoms has also been reported (31,80,81). Additional neurological manifestations reported include dizziness, agitation, weakness, seizures, or findings suggestive of stroke including trouble with speech or vision, sensory loss, or problems with balance in standing or walking (32,33). Older people and immunosuppressed patients in particular may present with atypical symptoms such as fatigue, reduced alertness, reduced mobility, diarrhoea, loss of appetite, confusion, and absence of fever (62,63,64). Symptoms such as dyspnoea, fever, gastrointestinal (GI) symptoms or fatigue due to physiologic adaptations in pregnant women, adverse pregnancy events, or other diseases such as malaria, may overlap with symptoms of COVID-19 (82). Children might not have reported fever or cough as frequently as adults (83). Table 6.2 Risk factors associated with severe disease Age more than 60 years (increasing with age).\n\n\uD83D\uDD39 Chunk: 84.0\nSource: who_guidelines\nText:\nshould prompt urgent care. Remark: Patients with risk factors for severe illness should be monitored closely, given the possible risk of deterioration. If they develop any worsening symptoms (such as light headedness, difficulty breathing, chest pain, dehydration, etc. ), they should seek urgent care through the established COVID-19 care pathway. Caregivers of children with mild COVID-19 should monitor for signs and symptoms of clinical deterioration requiring urgent re-evaluation. These include difficulty breathing/fast or shallow breathing (for infants: grunting, inability to breastfeed), blue lips or face, chest pain or pressure, new confusion, inability to awaken/not interacting when awake, inability to drink or keep down any liquids. Consider alternative delivery platforms such as home-based, phone, telemedicine or community outreach teams to assist with monitoring (110). See new recommendation in Chapter 10 on use of home pulse oximetry. We recommend that antibiotic therapy or prophylaxis should not be used in patients with mild COVID-19. Remark: Widespread use of antibiotics should be discouraged, as their use may lead to higher bacterial resistance rates, which will impact the burden of disease and deaths in a population during the COVID-19 pandemic and beyond (111,112,113). 26 Clinical management of COVID-19: living guidance 10.\n\n\uD83D\uDD39 Chunk: 180.0\nSource: who_guidelines\nText:\nto ICU had greater prevalence of symptoms in almost all reported symptom domains than COVID-19 patients not admitted to ICU (202). More than half of all COVID-19 patients who had been hospitalized, regardless of their clinical management, reported persistence of fatigue at 60 days since the onset of symptoms (202,203). With progression of the pandemic and the follow up of patients who have not been critically ill, new evidence is emerging about COVID-19 related persistent symptoms, which have parallels with other coronavirus diseases. Some patients with SARS-CoV-1 infection went on to develop a long-term illness with widespread pain, fatigue, depression and sleep disturbance (204,205). PTSD has also been described after SARS- CoV- 1 infection (205,205). Early findings report, most commonly reported ongoing symptoms (regardless of hospitalization status) are fatigue, muscle ache, shortness of breath and headache at a follow up of 4 months (205). Not returning to usual health within 2–3 weeks of testing was reported by approximately one third of symptomatic adults in an outpatient setting (206). A study reported that at 3 months after the onset of symptoms, one third of non-hospitalized patients were to some degree dependent on others for personal care (207).\n\n\uD83D\uDD39 Chunk: 21.0\nSource: who_guidelines\nText:\nmyalgias, delirium/encephalopathy, agitation, stroke, hypoxic ischaemic brain injury, seizures, coma, meningo-encephalitis and Guillain-Barré syndrome (32,33,34,35). Anxiety and depression appear to be common amongst people hospitalized for COVID-19, with one hospitalized cohort from Wuhan, China, revealing over 34% of people experiencing symptoms of anxiety and 28% experiencing symptoms of depression (36). Preliminary findings from retrospective cohort studies of over 60 000 COVID-19 cases in the United States of America indicate an 18.1% incidence of psychiatric diagnoses (including anxiety disorders and insomnia) in the first 2 weeks to 3 months after COVID-19 diagnosis, 5.8% of which were new diagnoses (37). In many cases, neurological manifestations have been reported even without respiratory symptoms. Over 80% of COVID-19 patients in a hospitalized United States' cohort experienced neurological symptoms during the course of their illness and these manifestations were associated with a four-fold higher risk of severe COVID-19 in this cohort (38). An observational case series from France found that 65% of people with COVID-19 in ICUs showed signs of confusion (or delirium) and 69% experienced agitation (39). Delirium, in particular, has been associated with increased mortality risk in the context of COVID-19 (40).\n"
     ]
    }
   ],
   "source": [
    "def hybrid_search(query, k=5):\n",
    "    try:\n",
    "        # Vector search first\n",
    "        print(\"\uD83D\uDD0D Trying dense vector search...\")\n",
    "        results = vsc.get_index(\n",
    "            endpoint_name=\"orielly-chapter2-endpoint\",\n",
    "            index_name=\"main.default.rag_chunks_index\"\n",
    "        ).similarity_search(\n",
    "            query_text=query,\n",
    "            columns=[\"chunk_id\", \"source\", \"text\"],\n",
    "            num_results=k\n",
    "        )\n",
    "        hits = results.get(\"result\", {}).get(\"data_array\", [])\n",
    "        if hits:\n",
    "            print(f\"✅ Dense search returned {len(hits)} results.\")\n",
    "            return hits\n",
    "\n",
    "    except Exception as e:\n",
    "        print(\"⚠️ Dense search failed. Falling back to keyword search...\")\n",
    "\n",
    "    # Fallback: keyword search using Spark SQL (BM25 proxy)\n",
    "    query_terms = query.lower().split()\n",
    "    condition = \" OR \".join([f\"LOWER(text) LIKE '%{term}%'\" for term in query_terms])\n",
    "    fallback_df = spark.sql(f\"\"\"\n",
    "        SELECT chunk_id, source, text\n",
    "        FROM main.default.rag_chunks_embedded\n",
    "        WHERE {condition}\n",
    "        LIMIT {k}\n",
    "    \"\"\")\n",
    "    return fallback_df.collect()\n",
    "\n",
    "# Try hybrid search\n",
    "hybrid_results = hybrid_search(\"What are the symptoms of COVID-19?\")\n",
    "for r in hybrid_results:\n",
    "    print(f\"\\n\uD83D\uDD39 Chunk: {r[0]}\")\n",
    "    print(f\"Source: {r[1]}\")\n",
    "    print(f\"Text:\\n{r[2]}\")\n"
   ]
  },
  {
   "cell_type": "markdown",
   "metadata": {
    "application/vnd.databricks.v1+cell": {
     "cellMetadata": {},
     "inputWidgets": {},
     "nuid": "89095940-1957-4301-8c1b-52eda16f83c9",
     "showTitle": false,
     "tableResultSettingsMap": {},
     "title": ""
    }
   },
   "source": [
    "## \uD83E\uDDFE Lab Wrap-Up: Summary of Chapter 3 – Preparing and Chunking Data for RAG Applications\n",
    "\n",
    "In this lab, you built a complete Retrieval-Augmented Generation (RAG) pipeline by preparing unstructured documents for semantic search using **chunking, embedding, and indexing** techniques. Here's what you accomplished:\n",
    "\n",
    "---\n",
    "\n",
    "### ✅ What You Did:\n",
    "\n",
    "| Task | Description |\n",
    "|------|-------------|\n",
    "| \uD83D\uDCE5 **Downloaded & cleaned PDFs** | Pulled real-world policy documents and cleaned text using PyMuPDF |\n",
    "| ✂️ **Applied chunking strategies** | Broke documents into overlapping sentence-level chunks to preserve context |\n",
    "| \uD83D\uDCBE **Stored and explored data** | Saved chunks as Delta tables for efficient access |\n",
    "| \uD83E\uDDE0 **Generated embeddings** | Called `databricks-bge-large-en` endpoint using a custom UDF |\n",
    "| \uD83D\uDD0E **Built vector index** | Created and synced an index using the Databricks Vector Search Client |\n",
    "| ❓ **Performed semantic queries** | Retrieved relevant document chunks using a natural-language question |\n",
    "| \uD83D\uDCCA **Analyzed retrieval quality** | Simulated how chunk size impacts precision |\n",
    "| \uD83D\uDD01 **Built a hybrid search strategy** | Combined dense vector search with keyword fallback using SQL |\n",
    "\n",
    "---\n",
    "\n",
    "### \uD83E\uDDE0 Key Takeaways\n",
    "\n",
    "- **Chunk granularity matters**: It directly affects precision, recall, and model understanding.\n",
    "- **Preprocessing improves performance**: Cleaning and filtering noisy data boosts retrieval accuracy.\n",
    "- **Vector Search + Delta Lake** enables scalable, production-grade RAG pipelines.\n",
    "- **Hybrid search strategies** ensure robustness when embeddings fall short.\n",
    "\n",
    "---\n",
    "\n",
    "### ✅ What's Next?\n",
    "\n",
    "- Try connecting these chunks to an LLM endpoint to complete the RAG loop.\n",
    "- Experiment with other embedding models (e.g., multilingual or fine-tuned ones).\n",
    "- Add ranking or reranking layers using similarity scores or LLM scoring.\n",
    "\n"
   ]
  }
 ],
 "metadata": {
  "application/vnd.databricks.v1+notebook": {
   "computePreferences": null,
   "dashboards": [],
   "environmentMetadata": {
    "base_environment": "",
    "environment_version": "2"
   },
   "inputWidgetPreferences": null,
   "language": "python",
   "notebookMetadata": {
    "mostRecentlyExecutedCommandWithImplicitDF": {
     "commandId": -1,
     "dataframes": [
      "_sqldf"
     ]
    },
    "pythonIndentUnit": 4
   },
   "notebookName": "Orielly Chapter 3",
   "widgets": {}
  },
  "language_info": {
   "name": "python"
  }
 },
 "nbformat": 4,
 "nbformat_minor": 0
}